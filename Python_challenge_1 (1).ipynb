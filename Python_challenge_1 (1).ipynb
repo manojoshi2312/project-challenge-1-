{
  "nbformat": 4,
  "nbformat_minor": 0,
  "metadata": {
    "colab": {
      "provenance": []
    },
    "kernelspec": {
      "name": "python3",
      "display_name": "Python 3"
    },
    "language_info": {
      "name": "python"
    }
  },
  "cells": [
    {
      "cell_type": "code",
      "execution_count": 6,
      "metadata": {
        "id": "LsipWgIJ81oH"
      },
      "outputs": [],
      "source": [
        "#Day 1 Numpy & operations"
      ]
    },
    {
      "cell_type": "code",
      "source": [
        "import numpy as np"
      ],
      "metadata": {
        "id": "rRMXVfCb-kMw"
      },
      "execution_count": 7,
      "outputs": []
    },
    {
      "cell_type": "code",
      "source": [
        "#create 1d,2d,3d arrays"
      ],
      "metadata": {
        "id": "HDUP9FuN-kb9"
      },
      "execution_count": 8,
      "outputs": []
    },
    {
      "cell_type": "code",
      "source": [
        "a =np.array([1,2,3,4])"
      ],
      "metadata": {
        "id": "cdEcK1wZ-kp_"
      },
      "execution_count": 9,
      "outputs": []
    },
    {
      "cell_type": "code",
      "source": [
        "b =np.array([[2,4,6],[8,10,12]])"
      ],
      "metadata": {
        "id": "6gQ9XqNR-k3s"
      },
      "execution_count": 10,
      "outputs": []
    },
    {
      "cell_type": "code",
      "source": [
        "c =np.array([[[1,2],[3,4]],[[5,6],[7,8]]])"
      ],
      "metadata": {
        "id": "US_5UShi-lNK"
      },
      "execution_count": 11,
      "outputs": []
    },
    {
      "cell_type": "code",
      "source": [
        "print(a)"
      ],
      "metadata": {
        "colab": {
          "base_uri": "https://localhost:8080/"
        },
        "id": "7w7rJczd-ljq",
        "outputId": "831bbf3a-18c2-4069-aaa3-aa43b1fd965d"
      },
      "execution_count": 12,
      "outputs": [
        {
          "output_type": "stream",
          "name": "stdout",
          "text": [
            "[1 2 3 4]\n"
          ]
        }
      ]
    },
    {
      "cell_type": "code",
      "source": [
        "print(b)"
      ],
      "metadata": {
        "colab": {
          "base_uri": "https://localhost:8080/"
        },
        "id": "lMmlV94r-l0B",
        "outputId": "5a2885bb-92fc-46a5-d824-439667fed2a1"
      },
      "execution_count": 13,
      "outputs": [
        {
          "output_type": "stream",
          "name": "stdout",
          "text": [
            "[[ 2  4  6]\n",
            " [ 8 10 12]]\n"
          ]
        }
      ]
    },
    {
      "cell_type": "code",
      "source": [
        "print(c)"
      ],
      "metadata": {
        "colab": {
          "base_uri": "https://localhost:8080/"
        },
        "id": "57pab0R4Eu7Q",
        "outputId": "3880d017-5c3d-48cf-dfa9-29dd9297f53d"
      },
      "execution_count": 14,
      "outputs": [
        {
          "output_type": "stream",
          "name": "stdout",
          "text": [
            "[[[1 2]\n",
            "  [3 4]]\n",
            "\n",
            " [[5 6]\n",
            "  [7 8]]]\n"
          ]
        }
      ]
    },
    {
      "cell_type": "code",
      "source": [
        "#arthematic operators"
      ],
      "metadata": {
        "id": "JOj5q9g5E46O"
      },
      "execution_count": 15,
      "outputs": []
    },
    {
      "cell_type": "code",
      "source": [
        "print(a+5)"
      ],
      "metadata": {
        "colab": {
          "base_uri": "https://localhost:8080/"
        },
        "id": "8YRelEcvGPB7",
        "outputId": "87674efb-00f9-45f2-8828-f502f35bca70"
      },
      "execution_count": 16,
      "outputs": [
        {
          "output_type": "stream",
          "name": "stdout",
          "text": [
            "[6 7 8 9]\n"
          ]
        }
      ]
    },
    {
      "cell_type": "code",
      "source": [
        "print(a-5)"
      ],
      "metadata": {
        "colab": {
          "base_uri": "https://localhost:8080/"
        },
        "id": "bcjITNGYGRGF",
        "outputId": "6ee05140-4ce5-491e-f4fa-7e224ffe7431"
      },
      "execution_count": 17,
      "outputs": [
        {
          "output_type": "stream",
          "name": "stdout",
          "text": [
            "[-4 -3 -2 -1]\n"
          ]
        }
      ]
    },
    {
      "cell_type": "code",
      "source": [
        "print(a*5)"
      ],
      "metadata": {
        "colab": {
          "base_uri": "https://localhost:8080/"
        },
        "id": "mwpFd1BgG1sM",
        "outputId": "39e3f852-c42c-467a-dd86-1b12e9b44d49"
      },
      "execution_count": 18,
      "outputs": [
        {
          "output_type": "stream",
          "name": "stdout",
          "text": [
            "[ 5 10 15 20]\n"
          ]
        }
      ]
    },
    {
      "cell_type": "code",
      "source": [
        "print(a/5)"
      ],
      "metadata": {
        "colab": {
          "base_uri": "https://localhost:8080/"
        },
        "id": "Fm4yG0mdH67S",
        "outputId": "862e6d29-2ec3-4f13-a73c-bdc276d4d42d"
      },
      "execution_count": 19,
      "outputs": [
        {
          "output_type": "stream",
          "name": "stdout",
          "text": [
            "[0.2 0.4 0.6 0.8]\n"
          ]
        }
      ]
    },
    {
      "cell_type": "code",
      "source": [
        "#Functions"
      ],
      "metadata": {
        "id": "sUISdr0xIADK"
      },
      "execution_count": 20,
      "outputs": []
    },
    {
      "cell_type": "code",
      "source": [
        "print(np.mean(a)) #mean"
      ],
      "metadata": {
        "colab": {
          "base_uri": "https://localhost:8080/"
        },
        "id": "daw3EKLbIWBG",
        "outputId": "776c457a-fe68-4c3f-fb75-fdee012511b2"
      },
      "execution_count": 21,
      "outputs": [
        {
          "output_type": "stream",
          "name": "stdout",
          "text": [
            "2.5\n"
          ]
        }
      ]
    },
    {
      "cell_type": "code",
      "source": [
        "print(np.sum(b))#sum"
      ],
      "metadata": {
        "colab": {
          "base_uri": "https://localhost:8080/"
        },
        "id": "cwRmsVs3IWhc",
        "outputId": "7dcadaf5-0086-4186-cebe-ed69257c96be"
      },
      "execution_count": 22,
      "outputs": [
        {
          "output_type": "stream",
          "name": "stdout",
          "text": [
            "42\n"
          ]
        }
      ]
    },
    {
      "cell_type": "code",
      "source": [
        "print(np.std(c)) #Standard deviation"
      ],
      "metadata": {
        "colab": {
          "base_uri": "https://localhost:8080/"
        },
        "id": "1dX44e3kIXLF",
        "outputId": "50b4cabe-37c8-4692-e2b5-b5ccd4b60491"
      },
      "execution_count": 23,
      "outputs": [
        {
          "output_type": "stream",
          "name": "stdout",
          "text": [
            "2.29128784747792\n"
          ]
        }
      ]
    },
    {
      "cell_type": "code",
      "source": [
        "#Arange"
      ],
      "metadata": {
        "id": "UgOfK_tWXv7B"
      },
      "execution_count": 24,
      "outputs": []
    },
    {
      "cell_type": "code",
      "source": [
        "c =np.arange(10,21)\n",
        "print(c)"
      ],
      "metadata": {
        "colab": {
          "base_uri": "https://localhost:8080/"
        },
        "id": "V3z0YOYikj_d",
        "outputId": "f09c47e9-28ba-4250-892e-4e51e1c80ba9"
      },
      "execution_count": 25,
      "outputs": [
        {
          "output_type": "stream",
          "name": "stdout",
          "text": [
            "[10 11 12 13 14 15 16 17 18 19 20]\n"
          ]
        }
      ]
    },
    {
      "cell_type": "code",
      "source": [
        "print(b.shape)"
      ],
      "metadata": {
        "colab": {
          "base_uri": "https://localhost:8080/"
        },
        "id": "iV5L1H9xnPvI",
        "outputId": "991ee49a-9ccf-48fc-8cd2-7b2f12754217"
      },
      "execution_count": 26,
      "outputs": [
        {
          "output_type": "stream",
          "name": "stdout",
          "text": [
            "(2, 3)\n"
          ]
        }
      ]
    },
    {
      "cell_type": "code",
      "source": [
        "c=np.linspace(10,20)"
      ],
      "metadata": {
        "id": "32ZTH0GVoO3C"
      },
      "execution_count": 27,
      "outputs": []
    },
    {
      "cell_type": "code",
      "source": [
        "c"
      ],
      "metadata": {
        "colab": {
          "base_uri": "https://localhost:8080/"
        },
        "id": "yvhEbMzao5Yg",
        "outputId": "61055801-cc39-41c1-c1a9-ea02f4eabe65"
      },
      "execution_count": 28,
      "outputs": [
        {
          "output_type": "execute_result",
          "data": {
            "text/plain": [
              "array([10.        , 10.20408163, 10.40816327, 10.6122449 , 10.81632653,\n",
              "       11.02040816, 11.2244898 , 11.42857143, 11.63265306, 11.83673469,\n",
              "       12.04081633, 12.24489796, 12.44897959, 12.65306122, 12.85714286,\n",
              "       13.06122449, 13.26530612, 13.46938776, 13.67346939, 13.87755102,\n",
              "       14.08163265, 14.28571429, 14.48979592, 14.69387755, 14.89795918,\n",
              "       15.10204082, 15.30612245, 15.51020408, 15.71428571, 15.91836735,\n",
              "       16.12244898, 16.32653061, 16.53061224, 16.73469388, 16.93877551,\n",
              "       17.14285714, 17.34693878, 17.55102041, 17.75510204, 17.95918367,\n",
              "       18.16326531, 18.36734694, 18.57142857, 18.7755102 , 18.97959184,\n",
              "       19.18367347, 19.3877551 , 19.59183673, 19.79591837, 20.        ])"
            ]
          },
          "metadata": {},
          "execution_count": 28
        }
      ]
    },
    {
      "cell_type": "code",
      "source": [
        "print(np.max(a))"
      ],
      "metadata": {
        "colab": {
          "base_uri": "https://localhost:8080/"
        },
        "id": "5PqAdVtPpDyN",
        "outputId": "830cfa4c-2a22-483c-a823-eca2f64cc0e8"
      },
      "execution_count": 29,
      "outputs": [
        {
          "output_type": "stream",
          "name": "stdout",
          "text": [
            "4\n"
          ]
        }
      ]
    },
    {
      "cell_type": "code",
      "source": [
        "print(np.min(b))"
      ],
      "metadata": {
        "colab": {
          "base_uri": "https://localhost:8080/"
        },
        "id": "6ll1JV9lrD4x",
        "outputId": "d54f0b0e-b8bd-422f-d777-31e992f48e85"
      },
      "execution_count": 30,
      "outputs": [
        {
          "output_type": "stream",
          "name": "stdout",
          "text": [
            "2\n"
          ]
        }
      ]
    },
    {
      "cell_type": "code",
      "source": [],
      "metadata": {
        "id": "j4yy3v5xrU7h"
      },
      "execution_count": 30,
      "outputs": []
    }
  ]
}